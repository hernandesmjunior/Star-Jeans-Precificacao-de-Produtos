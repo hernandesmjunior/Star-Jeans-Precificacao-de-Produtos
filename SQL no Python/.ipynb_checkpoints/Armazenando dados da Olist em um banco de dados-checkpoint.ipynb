{
 "cells": [
  {
   "cell_type": "markdown",
   "metadata": {},
   "source": [
    "# SQL e Python"
   ]
  },
  {
   "cell_type": "code",
   "execution_count": 4,
   "metadata": {},
   "outputs": [],
   "source": [
    "import pandas as pd\n",
    "import sqlite3\n",
    "\n",
    "from sqlalchemy import create_engine"
   ]
  },
  {
   "cell_type": "markdown",
   "metadata": {},
   "source": [
    "## Connect to database"
   ]
  },
  {
   "cell_type": "code",
   "execution_count": 54,
   "metadata": {},
   "outputs": [],
   "source": [
    "db = create_engine('sqlite:///database_olist.sqlite', echo=False)\n",
    "conn = db.connect()"
   ]
  },
  {
   "cell_type": "markdown",
   "metadata": {},
   "source": [
    "## Loading dataset"
   ]
  },
  {
   "cell_type": "markdown",
   "metadata": {},
   "source": [
    "## customer"
   ]
  },
  {
   "cell_type": "code",
   "execution_count": 55,
   "metadata": {},
   "outputs": [],
   "source": [
    "# dataset\n",
    "\n",
    "\n",
    "df_customer = pd.read_csv('Data/olist_customers_dataset.csv')"
   ]
  },
  {
   "cell_type": "code",
   "execution_count": 56,
   "metadata": {},
   "outputs": [
    {
     "data": {
      "text/plain": [
       "<sqlalchemy.engine.result.ResultProxy at 0x2072a6542e0>"
      ]
     },
     "execution_count": 56,
     "metadata": {},
     "output_type": "execute_result"
    }
   ],
   "source": [
    "# query\n",
    "\n",
    "schema_customer = \"\"\"\n",
    "\n",
    "                CREATE TABLE customer(\n",
    "                \n",
    "                \n",
    "                customer_id                   TEXT,\n",
    "                customer_unique_id            TEXT, \n",
    "                customer_zip_code_prefix      INTEGER,\n",
    "                customer_city                 TEXT,\n",
    "                customer_state                TEXT\n",
    "                \n",
    "                )\n",
    "                \n",
    "\"\"\"\n",
    "\n",
    "conn.execute(schema_customer)"
   ]
  },
  {
   "cell_type": "code",
   "execution_count": 57,
   "metadata": {},
   "outputs": [],
   "source": [
    "# insert data\n",
    "\n",
    "df_customer.to_sql('customer', con=conn, if_exists='append', index=False)"
   ]
  },
  {
   "cell_type": "markdown",
   "metadata": {},
   "source": [
    "## geolocation"
   ]
  },
  {
   "cell_type": "code",
   "execution_count": 58,
   "metadata": {},
   "outputs": [],
   "source": [
    "df_customer = pd.read_csv('Data/olist_geolocation_dataset.csv')"
   ]
  },
  {
   "cell_type": "code",
   "execution_count": 59,
   "metadata": {},
   "outputs": [],
   "source": [
    "schema_geolocation = \"\"\"\n",
    "\n",
    "                CREATE TABLE geolocation (\n",
    "                \n",
    "                \n",
    "                geolocation_zip_code_prefix      INTEGER,\n",
    "                geolocation_lat                  REAL,\n",
    "                geolocation_lng                  REAL,\n",
    "                geolocation_city                 TEXT,\n",
    "                geolocation_state                TEXT\n",
    "                )\n",
    "                \n",
    "\"\"\"\n",
    "\n",
    "conn.execute(schema_geolocation)\n",
    "\n",
    "df_customer.to_sql('geolocation', con=conn, if_exists='append', index=False)"
   ]
  },
  {
   "cell_type": "markdown",
   "metadata": {},
   "source": [
    "## order_items"
   ]
  },
  {
   "cell_type": "code",
   "execution_count": 60,
   "metadata": {},
   "outputs": [],
   "source": [
    "df_customer = pd.read_csv('Data/olist_order_items_dataset.csv')"
   ]
  },
  {
   "cell_type": "code",
   "execution_count": 61,
   "metadata": {},
   "outputs": [],
   "source": [
    "schema_order_items = \"\"\"\n",
    "\n",
    "                CREATE TABLE order_items (\n",
    "                \n",
    "                \n",
    "                order_id                TEXT,\n",
    "                order_item_id           INTEGER,\n",
    "                product_id              TEXT,\n",
    "                seller_id               TEXT,\n",
    "                shipping_limit_date     TEXT,\n",
    "                price                   REAL,\n",
    "                freight_value           REAL\n",
    "                \n",
    "                )\n",
    "                \n",
    "\"\"\"\n",
    "\n",
    "conn.execute(schema_order_items)\n",
    "\n",
    "df_customer.to_sql('order_items', con=conn, if_exists='append', index=False)"
   ]
  },
  {
   "cell_type": "markdown",
   "metadata": {},
   "source": [
    "## order_payments"
   ]
  },
  {
   "cell_type": "code",
   "execution_count": 62,
   "metadata": {},
   "outputs": [],
   "source": [
    "df_customer = pd.read_csv('Data/olist_order_payments_dataset.csv')"
   ]
  },
  {
   "cell_type": "code",
   "execution_count": 63,
   "metadata": {},
   "outputs": [],
   "source": [
    "schema_order_payments = \"\"\"\n",
    "\n",
    "                CREATE TABLE order_payments (\n",
    "                \n",
    "                \n",
    "                order_id                 TEXT,\n",
    "                payment_sequential       INTEGER,\n",
    "                payment_type             TEXT,\n",
    "                payment_installments     INTEGER,\n",
    "                payment_value            REAL\n",
    "                \n",
    "                )\n",
    "                \n",
    "\"\"\"\n",
    "\n",
    "conn.execute(schema_order_payments)\n",
    "\n",
    "df_customer.to_sql('order_payments', con=conn, if_exists='append', index=False)"
   ]
  },
  {
   "cell_type": "markdown",
   "metadata": {},
   "source": [
    "## order_reviews"
   ]
  },
  {
   "cell_type": "code",
   "execution_count": 64,
   "metadata": {},
   "outputs": [],
   "source": [
    "df_customer = pd.read_csv('Data/olist_order_reviews_dataset.csv')"
   ]
  },
  {
   "cell_type": "code",
   "execution_count": 65,
   "metadata": {},
   "outputs": [],
   "source": [
    "schema_order_reviews = \"\"\"\n",
    "\n",
    "                CREATE TABLE order_reviews (\n",
    "                \n",
    "                \n",
    "                review_id                  TEXT,\n",
    "                order_id                   TEXT,\n",
    "                review_score               INTEGER,\n",
    "                review_comment_title       TEXT,\n",
    "                review_comment_message     TEXT,\n",
    "                review_creation_date       TEXT,\n",
    "                review_answer_timestamp    TEXT\n",
    "                \n",
    "                )\n",
    "                \n",
    "\"\"\"\n",
    "\n",
    "conn.execute(schema_order_reviews)\n",
    "\n",
    "df_customer.to_sql('order_reviews', con=conn, if_exists='append', index=False)"
   ]
  },
  {
   "cell_type": "markdown",
   "metadata": {},
   "source": [
    "## orders"
   ]
  },
  {
   "cell_type": "code",
   "execution_count": 66,
   "metadata": {},
   "outputs": [],
   "source": [
    "df_customer = pd.read_csv('Data/olist_orders_dataset.csv')"
   ]
  },
  {
   "cell_type": "code",
   "execution_count": 67,
   "metadata": {},
   "outputs": [],
   "source": [
    "schema_order_s = \"\"\"\n",
    "\n",
    "                CREATE TABLE orders (\n",
    "                \n",
    "                \n",
    "                order_id                         TEXT,\n",
    "                customer_id                      TEXT,\n",
    "                order_status                     TEXT,\n",
    "                order_purchase_timestamp         TEXT,\n",
    "                order_approved_at                TEXT,\n",
    "                order_delivered_carrier_date     TEXT,\n",
    "                order_delivered_customer_date    TEXT,\n",
    "                order_estimated_delivery_date    TEXT\n",
    "                \n",
    "                )\n",
    "                \n",
    "\"\"\"\n",
    "\n",
    "conn.execute(schema_order_s)\n",
    "\n",
    "df_customer.to_sql('orders', con=conn, if_exists='append', index=False)"
   ]
  },
  {
   "cell_type": "markdown",
   "metadata": {},
   "source": [
    "## products"
   ]
  },
  {
   "cell_type": "code",
   "execution_count": 68,
   "metadata": {},
   "outputs": [],
   "source": [
    "df_customer = pd.read_csv('Data/olist_products_dataset.csv')"
   ]
  },
  {
   "cell_type": "code",
   "execution_count": 69,
   "metadata": {},
   "outputs": [],
   "source": [
    "schema_products = \"\"\"\n",
    "\n",
    "                CREATE TABLE products (\n",
    "                \n",
    "                \n",
    "                product_id                     TEXT,\n",
    "                product_category_name          TEXT,\n",
    "                product_name_lenght            REAL,\n",
    "                product_description_lenght     REAL,\n",
    "                product_photos_qty             REAL,\n",
    "                product_weight_g               REAL,\n",
    "                product_length_cm              REAL,\n",
    "                product_height_cm              REAL,\n",
    "                product_width_cm               REAL\n",
    "                        \n",
    "                )\n",
    "                \n",
    "\"\"\"\n",
    "\n",
    "conn.execute(schema_products)\n",
    "\n",
    "df_customer.to_sql('products', con=conn, if_exists='append', index=False)"
   ]
  },
  {
   "cell_type": "markdown",
   "metadata": {},
   "source": [
    "## sellers"
   ]
  },
  {
   "cell_type": "code",
   "execution_count": 70,
   "metadata": {},
   "outputs": [],
   "source": [
    "df_customer = pd.read_csv('Data/olist_sellers_dataset.csv')"
   ]
  },
  {
   "cell_type": "code",
   "execution_count": 72,
   "metadata": {},
   "outputs": [],
   "source": [
    "schema_sellers = \"\"\"\n",
    "\n",
    "                CREATE TABLE sellers (\n",
    "                \n",
    "                \n",
    "                seller_id                 TEXT,\n",
    "                seller_zip_code_prefix    INTEGER,\n",
    "                seller_city               TEXT,\n",
    "                seller_state              TEXT\n",
    "                        \n",
    "                )\n",
    "                \n",
    "\"\"\"\n",
    "\n",
    "conn.execute(schema_sellers)\n",
    "\n",
    "df_customer.to_sql('sellers', con=conn, if_exists='append', index=False)"
   ]
  },
  {
   "cell_type": "markdown",
   "metadata": {},
   "source": [
    "## product_category_name_translation"
   ]
  },
  {
   "cell_type": "code",
   "execution_count": 74,
   "metadata": {},
   "outputs": [],
   "source": [
    "df_customer = pd.read_csv('Data/product_category_name_translation.csv')"
   ]
  },
  {
   "cell_type": "code",
   "execution_count": 76,
   "metadata": {},
   "outputs": [],
   "source": [
    "schema_product_category_name = \"\"\"\n",
    "\n",
    "                CREATE TABLE product_category_name (\n",
    "                \n",
    "                \n",
    "                product_category_name            TEXT,\n",
    "                product_category_name_english    TEXT\n",
    "                        \n",
    "                )\n",
    "                \n",
    "\"\"\"\n",
    "\n",
    "conn.execute(schema_product_category_name)\n",
    "\n",
    "df_customer.to_sql('product_category_name', con=conn, if_exists='append', index=False)"
   ]
  },
  {
   "cell_type": "code",
   "execution_count": 77,
   "metadata": {},
   "outputs": [
    {
     "data": {
      "text/html": [
       "<div>\n",
       "<style scoped>\n",
       "    .dataframe tbody tr th:only-of-type {\n",
       "        vertical-align: middle;\n",
       "    }\n",
       "\n",
       "    .dataframe tbody tr th {\n",
       "        vertical-align: top;\n",
       "    }\n",
       "\n",
       "    .dataframe thead th {\n",
       "        text-align: right;\n",
       "    }\n",
       "</style>\n",
       "<table border=\"1\" class=\"dataframe\">\n",
       "  <thead>\n",
       "    <tr style=\"text-align: right;\">\n",
       "      <th></th>\n",
       "      <th>name</th>\n",
       "    </tr>\n",
       "  </thead>\n",
       "  <tbody>\n",
       "    <tr>\n",
       "      <th>0</th>\n",
       "      <td>customer</td>\n",
       "    </tr>\n",
       "    <tr>\n",
       "      <th>1</th>\n",
       "      <td>geolocation</td>\n",
       "    </tr>\n",
       "    <tr>\n",
       "      <th>2</th>\n",
       "      <td>order_items</td>\n",
       "    </tr>\n",
       "    <tr>\n",
       "      <th>3</th>\n",
       "      <td>order_payments</td>\n",
       "    </tr>\n",
       "    <tr>\n",
       "      <th>4</th>\n",
       "      <td>order_reviews</td>\n",
       "    </tr>\n",
       "    <tr>\n",
       "      <th>5</th>\n",
       "      <td>orders</td>\n",
       "    </tr>\n",
       "    <tr>\n",
       "      <th>6</th>\n",
       "      <td>products</td>\n",
       "    </tr>\n",
       "    <tr>\n",
       "      <th>7</th>\n",
       "      <td>sellers</td>\n",
       "    </tr>\n",
       "    <tr>\n",
       "      <th>8</th>\n",
       "      <td>product_category_name</td>\n",
       "    </tr>\n",
       "  </tbody>\n",
       "</table>\n",
       "</div>"
      ],
      "text/plain": [
       "                    name\n",
       "0               customer\n",
       "1            geolocation\n",
       "2            order_items\n",
       "3         order_payments\n",
       "4          order_reviews\n",
       "5                 orders\n",
       "6               products\n",
       "7                sellers\n",
       "8  product_category_name"
      ]
     },
     "execution_count": 77,
     "metadata": {},
     "output_type": "execute_result"
    }
   ],
   "source": [
    "query = \"\"\"\n",
    "\n",
    "        SELECT name\n",
    "        FROM sqlite_master\n",
    "        WHERE type = 'table'\n",
    "\n",
    "\n",
    "\"\"\"\n",
    "\n",
    "table = pd.read_sql_query(query, conn)\n",
    "table"
   ]
  },
  {
   "cell_type": "code",
   "execution_count": null,
   "metadata": {},
   "outputs": [],
   "source": []
  },
  {
   "cell_type": "code",
   "execution_count": null,
   "metadata": {},
   "outputs": [],
   "source": []
  },
  {
   "cell_type": "code",
   "execution_count": null,
   "metadata": {},
   "outputs": [],
   "source": []
  },
  {
   "cell_type": "code",
   "execution_count": null,
   "metadata": {},
   "outputs": [],
   "source": []
  }
 ],
 "metadata": {
  "kernelspec": {
   "display_name": "Python 3",
   "language": "python",
   "name": "python3"
  },
  "language_info": {
   "codemirror_mode": {
    "name": "ipython",
    "version": 3
   },
   "file_extension": ".py",
   "mimetype": "text/x-python",
   "name": "python",
   "nbconvert_exporter": "python",
   "pygments_lexer": "ipython3",
   "version": "3.8.5"
  }
 },
 "nbformat": 4,
 "nbformat_minor": 4
}
